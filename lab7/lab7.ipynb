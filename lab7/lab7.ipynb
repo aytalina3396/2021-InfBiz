{
 "cells": [
  {
   "cell_type": "code",
   "execution_count": 30,
   "metadata": {},
   "outputs": [],
   "source": [
    "import random\n",
    "import string\n",
    "\n",
    "#создание рандомного ключа\n",
    "def generate_key (size = 6, chars = string.ascii_letters + string.digits):\n",
    "    return ''.join(random.choice(chars) for _ in range(size))\n",
    "\n",
    "#функция перевода слов в шестнадцатеричную систему счисления\n",
    "def convert_hexadecimal_form(s):\n",
    "    return \" \".join(\"{:02x}\".format(ord(c)) for c in s)\n",
    "\n",
    "#однократное гаммирование\n",
    "def single_gamming(f_string, s_string):\n",
    "    ascii_f_string = [ord(i) for i in f_string]\n",
    "    ascii_s_string = [ord(i) for i in s_string]\n",
    "    return ''.join(chr(s ^ k) for s, k in zip(ascii_f_string, ascii_s_string))"
   ]
  },
  {
   "cell_type": "code",
   "execution_count": 31,
   "metadata": {},
   "outputs": [
    {
     "name": "stdout",
     "output_type": "stream",
     "text": [
      "Ключ:  4NUGXK9G3qwMZEczBIdY11\n",
      "Ключ в шестнадцатеричной системе счисления:  34 4e 55 47 58 4b 39 47 33 71 77 4d 5a 45 63 7a 42 49 64 59 31 31\n",
      "Зашифрованная текст:  ЕnшѹѪЀЅgРяуѳѦiCюЂЊѓЕѾ\u0010\n",
      "Зашифрованная текст шестнадцатеричной системе счисления:  415 6e 448 479 46a 400 405 67 420 44f 443 473 466 69 43 44e 402 40a 453 415 47e 10\n"
     ]
    }
   ],
   "source": [
    "cur_string = \"С Новым Годом, друзья!\"\n",
    "\n",
    "key = generate_key(len(cur_string))\n",
    "print(\"Ключ: \", key)\n",
    "print(\"Ключ в шестнадцатеричной системе счисления: \", convert_hexadecimal_form(key))\n",
    "\n",
    "new_string = single_gamming(cur_string, key)\n",
    "print(\"Зашифрованная текст: \", new_string)\n",
    "print(\"Зашифрованная текст шестнадцатеричной системе счисления: \", convert_hexadecimal_form(new_string))"
   ]
  },
  {
   "cell_type": "code",
   "execution_count": 32,
   "metadata": {},
   "outputs": [
    {
     "name": "stdout",
     "output_type": "stream",
     "text": [
      "Ключ:  n6b4bpvK33x2azoNKFwfqm\n",
      "Ключ в шестнадцатеричной системе счисления:  6e 36 62 34 62 70 76 4b 33 33 78 32 61 7a 6f 4e 4b 46 77 66 71 6d\n",
      "Полученный текст:  ѻXЪэЈѰѳ,ГѼлсЇ\u0013,ЀщьФѳЏ}\n",
      "\n",
      "Ключ:  4NUGXK9G3qwMZEczBIdY11\n",
      "Ключ в шестнадцатеричной системе счисления:  34 4e 55 47 58 4b 39 47 33 71 77 4d 5a 45 63 7a 42 49 64 59 31 31\n",
      "Полученный текст:  С Новым Годом, друзья!\n"
     ]
    }
   ],
   "source": [
    "key = generate_key(len(cur_string))\n",
    "print(\"Ключ: \", key)\n",
    "print(\"Ключ в шестнадцатеричной системе счисления: \", convert_hexadecimal_form(key))\n",
    "print(\"Полученный текст: \", single_gamming(new_string, key))\n",
    "\n",
    "key = single_gamming(cur_string, new_string)\n",
    "print(\"\\nКлюч: \", key)\n",
    "print(\"Ключ в шестнадцатеричной системе счисления: \", convert_hexadecimal_form(key))\n",
    "print(\"Полученный текст: \", single_gamming(new_string, key))"
   ]
  },
  {
   "cell_type": "code",
   "execution_count": null,
   "metadata": {},
   "outputs": [],
   "source": []
  }
 ],
 "metadata": {
  "kernelspec": {
   "display_name": "Python 3",
   "language": "python",
   "name": "python3"
  },
  "language_info": {
   "codemirror_mode": {
    "name": "ipython",
    "version": 3
   },
   "file_extension": ".py",
   "mimetype": "text/x-python",
   "name": "python",
   "nbconvert_exporter": "python",
   "pygments_lexer": "ipython3",
   "version": "3.8.5"
  }
 },
 "nbformat": 4,
 "nbformat_minor": 4
}
